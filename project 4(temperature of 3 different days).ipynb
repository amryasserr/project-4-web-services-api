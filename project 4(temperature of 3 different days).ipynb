{
 "cells": [
  {
   "cell_type": "code",
   "execution_count": 1,
   "metadata": {},
   "outputs": [],
   "source": [
    "import requests\n",
    "import csv"
   ]
  },
  {
   "cell_type": "code",
   "execution_count": 2,
   "metadata": {},
   "outputs": [
    {
     "data": {
      "text/plain": [
       "<Response [200]>"
      ]
     },
     "execution_count": 2,
     "metadata": {},
     "output_type": "execute_result"
    }
   ],
   "source": [
    "requests.get(\"https://www.metaweather.com/api/location/1521894/\")"
   ]
  },
  {
   "cell_type": "code",
   "execution_count": 3,
   "metadata": {},
   "outputs": [],
   "source": [
    "response=requests.get(\"https://www.metaweather.com/api/location/1521894/\")"
   ]
  },
  {
   "cell_type": "code",
   "execution_count": 4,
   "metadata": {},
   "outputs": [
    {
     "data": {
      "text/plain": [
       "{'consolidated_weather': [{'id': 5270607412330496,\n",
       "   'weather_state_name': 'Heavy Cloud',\n",
       "   'weather_state_abbr': 'hc',\n",
       "   'wind_direction_compass': 'NW',\n",
       "   'created': '2022-03-25T16:34:22.823239Z',\n",
       "   'applicable_date': '2022-03-25',\n",
       "   'min_temp': 10.045000000000002,\n",
       "   'max_temp': 20.07,\n",
       "   'the_temp': 19.47,\n",
       "   'wind_speed': 9.520498356841381,\n",
       "   'wind_direction': 306.0797625860355,\n",
       "   'air_pressure': 1021.5,\n",
       "   'humidity': 39,\n",
       "   'visibility': 12.067339238845143,\n",
       "   'predictability': 71},\n",
       "  {'id': 6737766504202240,\n",
       "   'weather_state_name': 'Clear',\n",
       "   'weather_state_abbr': 'c',\n",
       "   'wind_direction_compass': 'NNW',\n",
       "   'created': '2022-03-25T16:34:25.115110Z',\n",
       "   'applicable_date': '2022-03-26',\n",
       "   'min_temp': 9.145,\n",
       "   'max_temp': 24.445,\n",
       "   'the_temp': 21.665,\n",
       "   'wind_speed': 6.033196234690739,\n",
       "   'wind_direction': 345.8562065055087,\n",
       "   'air_pressure': 1026.5,\n",
       "   'humidity': 36,\n",
       "   'visibility': 12.970502266762109,\n",
       "   'predictability': 68},\n",
       "  {'id': 6480467520913408,\n",
       "   'weather_state_name': 'Clear',\n",
       "   'weather_state_abbr': 'c',\n",
       "   'wind_direction_compass': 'N',\n",
       "   'created': '2022-03-25T16:34:28.253171Z',\n",
       "   'applicable_date': '2022-03-27',\n",
       "   'min_temp': 9.705,\n",
       "   'max_temp': 25.575,\n",
       "   'the_temp': 21.66,\n",
       "   'wind_speed': 7.953524468116864,\n",
       "   'wind_direction': 357.5289975855429,\n",
       "   'air_pressure': 1028.0,\n",
       "   'humidity': 40,\n",
       "   'visibility': 13.076756740634693,\n",
       "   'predictability': 68},\n",
       "  {'id': 6037145526468608,\n",
       "   'weather_state_name': 'Clear',\n",
       "   'weather_state_abbr': 'c',\n",
       "   'wind_direction_compass': 'NE',\n",
       "   'created': '2022-03-25T16:34:31.217934Z',\n",
       "   'applicable_date': '2022-03-28',\n",
       "   'min_temp': 9.89,\n",
       "   'max_temp': 25.225,\n",
       "   'the_temp': 22.215,\n",
       "   'wind_speed': 10.099268049786579,\n",
       "   'wind_direction': 50.11033047654097,\n",
       "   'air_pressure': 1025.5,\n",
       "   'humidity': 37,\n",
       "   'visibility': 13.25695438638352,\n",
       "   'predictability': 68},\n",
       "  {'id': 6211237193973760,\n",
       "   'weather_state_name': 'Light Cloud',\n",
       "   'weather_state_abbr': 'lc',\n",
       "   'wind_direction_compass': 'NNE',\n",
       "   'created': '2022-03-25T16:34:34.325936Z',\n",
       "   'applicable_date': '2022-03-29',\n",
       "   'min_temp': 11.575,\n",
       "   'max_temp': 29.345,\n",
       "   'the_temp': 24.935000000000002,\n",
       "   'wind_speed': 6.888724350494446,\n",
       "   'wind_direction': 25.636988758810734,\n",
       "   'air_pressure': 1017.5,\n",
       "   'humidity': 39,\n",
       "   'visibility': 13.286158832418675,\n",
       "   'predictability': 70},\n",
       "  {'id': 5611743142215680,\n",
       "   'weather_state_name': 'Clear',\n",
       "   'weather_state_abbr': 'c',\n",
       "   'wind_direction_compass': 'NNE',\n",
       "   'created': '2022-03-25T16:34:37.054915Z',\n",
       "   'applicable_date': '2022-03-30',\n",
       "   'min_temp': 12.895,\n",
       "   'max_temp': 28.55,\n",
       "   'the_temp': 23.44,\n",
       "   'wind_speed': 5.992035114928816,\n",
       "   'wind_direction': 24.499999999999996,\n",
       "   'air_pressure': 1017.0,\n",
       "   'humidity': 33,\n",
       "   'visibility': 9.999726596675416,\n",
       "   'predictability': 68}],\n",
       " 'time': '2022-03-25T21:17:00.317313+02:00',\n",
       " 'sun_rise': '2022-03-25T05:53:06.481092+02:00',\n",
       " 'sun_set': '2022-03-25T18:09:22.804128+02:00',\n",
       " 'timezone_name': 'LMT',\n",
       " 'parent': {'title': 'Egypt',\n",
       "  'location_type': 'Country',\n",
       "  'woeid': 23424802,\n",
       "  'latt_long': '26.837090,30.796391'},\n",
       " 'sources': [{'title': 'BBC',\n",
       "   'slug': 'bbc',\n",
       "   'url': 'http://www.bbc.co.uk/weather/',\n",
       "   'crawl_rate': 360},\n",
       "  {'title': 'Forecast.io',\n",
       "   'slug': 'forecast-io',\n",
       "   'url': 'http://forecast.io/',\n",
       "   'crawl_rate': 480},\n",
       "  {'title': 'HAMweather',\n",
       "   'slug': 'hamweather',\n",
       "   'url': 'http://www.hamweather.com/',\n",
       "   'crawl_rate': 360},\n",
       "  {'title': 'Met Office',\n",
       "   'slug': 'met-office',\n",
       "   'url': 'http://www.metoffice.gov.uk/',\n",
       "   'crawl_rate': 180},\n",
       "  {'title': 'OpenWeatherMap',\n",
       "   'slug': 'openweathermap',\n",
       "   'url': 'http://openweathermap.org/',\n",
       "   'crawl_rate': 360},\n",
       "  {'title': 'Weather Underground',\n",
       "   'slug': 'wunderground',\n",
       "   'url': 'https://www.wunderground.com/?apiref=fc30dc3cd224e19b',\n",
       "   'crawl_rate': 720},\n",
       "  {'title': 'World Weather Online',\n",
       "   'slug': 'world-weather-online',\n",
       "   'url': 'http://www.worldweatheronline.com/',\n",
       "   'crawl_rate': 360}],\n",
       " 'title': 'Cairo',\n",
       " 'location_type': 'City',\n",
       " 'woeid': 1521894,\n",
       " 'latt_long': '30.049950,31.248600',\n",
       " 'timezone': 'Africa/Cairo'}"
      ]
     },
     "execution_count": 4,
     "metadata": {},
     "output_type": "execute_result"
    }
   ],
   "source": [
    "response.json()"
   ]
  },
  {
   "cell_type": "code",
   "execution_count": 5,
   "metadata": {},
   "outputs": [],
   "source": [
    "data=response.json()"
   ]
  },
  {
   "cell_type": "code",
   "execution_count": 19,
   "metadata": {},
   "outputs": [
    {
     "data": {
      "text/plain": [
       "[{'id': 5270607412330496,\n",
       "  'weather_state_name': 'Heavy Cloud',\n",
       "  'weather_state_abbr': 'hc',\n",
       "  'wind_direction_compass': 'NW',\n",
       "  'created': '2022-03-25T16:34:22.823239Z',\n",
       "  'applicable_date': '2022-03-25',\n",
       "  'min_temp': 10.045000000000002,\n",
       "  'max_temp': 20.07,\n",
       "  'the_temp': 19.47,\n",
       "  'wind_speed': 9.520498356841381,\n",
       "  'wind_direction': 306.0797625860355,\n",
       "  'air_pressure': 1021.5,\n",
       "  'humidity': 39,\n",
       "  'visibility': 12.067339238845143,\n",
       "  'predictability': 71},\n",
       " {'id': 6737766504202240,\n",
       "  'weather_state_name': 'Clear',\n",
       "  'weather_state_abbr': 'c',\n",
       "  'wind_direction_compass': 'NNW',\n",
       "  'created': '2022-03-25T16:34:25.115110Z',\n",
       "  'applicable_date': '2022-03-26',\n",
       "  'min_temp': 9.145,\n",
       "  'max_temp': 24.445,\n",
       "  'the_temp': 21.665,\n",
       "  'wind_speed': 6.033196234690739,\n",
       "  'wind_direction': 345.8562065055087,\n",
       "  'air_pressure': 1026.5,\n",
       "  'humidity': 36,\n",
       "  'visibility': 12.970502266762109,\n",
       "  'predictability': 68},\n",
       " {'id': 6480467520913408,\n",
       "  'weather_state_name': 'Clear',\n",
       "  'weather_state_abbr': 'c',\n",
       "  'wind_direction_compass': 'N',\n",
       "  'created': '2022-03-25T16:34:28.253171Z',\n",
       "  'applicable_date': '2022-03-27',\n",
       "  'min_temp': 9.705,\n",
       "  'max_temp': 25.575,\n",
       "  'the_temp': 21.66,\n",
       "  'wind_speed': 7.953524468116864,\n",
       "  'wind_direction': 357.5289975855429,\n",
       "  'air_pressure': 1028.0,\n",
       "  'humidity': 40,\n",
       "  'visibility': 13.076756740634693,\n",
       "  'predictability': 68},\n",
       " {'id': 6037145526468608,\n",
       "  'weather_state_name': 'Clear',\n",
       "  'weather_state_abbr': 'c',\n",
       "  'wind_direction_compass': 'NE',\n",
       "  'created': '2022-03-25T16:34:31.217934Z',\n",
       "  'applicable_date': '2022-03-28',\n",
       "  'min_temp': 9.89,\n",
       "  'max_temp': 25.225,\n",
       "  'the_temp': 22.215,\n",
       "  'wind_speed': 10.099268049786579,\n",
       "  'wind_direction': 50.11033047654097,\n",
       "  'air_pressure': 1025.5,\n",
       "  'humidity': 37,\n",
       "  'visibility': 13.25695438638352,\n",
       "  'predictability': 68},\n",
       " {'id': 6211237193973760,\n",
       "  'weather_state_name': 'Light Cloud',\n",
       "  'weather_state_abbr': 'lc',\n",
       "  'wind_direction_compass': 'NNE',\n",
       "  'created': '2022-03-25T16:34:34.325936Z',\n",
       "  'applicable_date': '2022-03-29',\n",
       "  'min_temp': 11.575,\n",
       "  'max_temp': 29.345,\n",
       "  'the_temp': 24.935000000000002,\n",
       "  'wind_speed': 6.888724350494446,\n",
       "  'wind_direction': 25.636988758810734,\n",
       "  'air_pressure': 1017.5,\n",
       "  'humidity': 39,\n",
       "  'visibility': 13.286158832418675,\n",
       "  'predictability': 70},\n",
       " {'id': 5611743142215680,\n",
       "  'weather_state_name': 'Clear',\n",
       "  'weather_state_abbr': 'c',\n",
       "  'wind_direction_compass': 'NNE',\n",
       "  'created': '2022-03-25T16:34:37.054915Z',\n",
       "  'applicable_date': '2022-03-30',\n",
       "  'min_temp': 12.895,\n",
       "  'max_temp': 28.55,\n",
       "  'the_temp': 23.44,\n",
       "  'wind_speed': 5.992035114928816,\n",
       "  'wind_direction': 24.499999999999996,\n",
       "  'air_pressure': 1017.0,\n",
       "  'humidity': 33,\n",
       "  'visibility': 9.999726596675416,\n",
       "  'predictability': 68}]"
      ]
     },
     "execution_count": 19,
     "metadata": {},
     "output_type": "execute_result"
    }
   ],
   "source": [
    "w=data[\"consolidated_weather\"]\n",
    "w"
   ]
  },
  {
   "cell_type": "code",
   "execution_count": 33,
   "metadata": {},
   "outputs": [
    {
     "data": {
      "text/plain": [
       "{'id': 6211237193973760,\n",
       " 'weather_state_name': 'Light Cloud',\n",
       " 'weather_state_abbr': 'lc',\n",
       " 'wind_direction_compass': 'NNE',\n",
       " 'created': '2022-03-25T16:34:34.325936Z',\n",
       " 'applicable_date': '2022-03-29',\n",
       " 'min_temp': 11.575,\n",
       " 'max_temp': 29.345,\n",
       " 'the_temp': 24.935000000000002,\n",
       " 'wind_speed': 6.888724350494446,\n",
       " 'wind_direction': 25.636988758810734,\n",
       " 'air_pressure': 1017.5,\n",
       " 'humidity': 39,\n",
       " 'visibility': 13.286158832418675,\n",
       " 'predictability': 70}"
      ]
     },
     "execution_count": 33,
     "metadata": {},
     "output_type": "execute_result"
    }
   ],
   "source": [
    "w[4]  "
   ]
  },
  {
   "cell_type": "code",
   "execution_count": 32,
   "metadata": {},
   "outputs": [],
   "source": [
    "day=w[4]"
   ]
  },
  {
   "cell_type": "code",
   "execution_count": 34,
   "metadata": {},
   "outputs": [
    {
     "name": "stdout",
     "output_type": "stream",
     "text": [
      "2022-03-29 | 24.935000000000002 | 39 | 13.286158832418675 | 1017.5 | 6.888724350494446\n"
     ]
    }
   ],
   "source": [
    "print(day['applicable_date'],\"|\",day['the_temp'],\"|\",day['humidity'],\"|\",day['visibility'],\"|\",day['air_pressure'],\"|\",day['wind_speed'])"
   ]
  },
  {
   "cell_type": "code",
   "execution_count": 35,
   "metadata": {},
   "outputs": [],
   "source": [
    "with open (\"weather(3).csv\",\"w\",newline=\"\") as f:\n",
    "    writer= csv.DictWriter(f,fieldnames=[\"applicable date\",\"the temp\",\"humidity\",\"visibility\",'air pressure','wind speed'])\n",
    "    writer.writeheader()\n",
    "\n",
    "    applicable_date_=day['applicable_date']\n",
    "    the_temp_=day['the_temp']\n",
    "    humidity_=day['humidity']\n",
    "    visibility_=day['visibility']\n",
    "    air_pressure_=day['air_pressure']\n",
    "    wind_speed_=day['wind_speed']\n",
    "\n",
    "\n",
    "    writer.writerow(\n",
    "            {\n",
    "              \"applicable date\": applicable_date_,\n",
    "              \"the temp\":the_temp_,\n",
    "              \"humidity\":humidity_,\n",
    "              \"visibility\":visibility_,\n",
    "              'air pressure':air_pressure_,\n",
    "              'wind speed':wind_speed_\n",
    "            }\n",
    "        )"
   ]
  },
  {
   "cell_type": "code",
   "execution_count": null,
   "metadata": {},
   "outputs": [],
   "source": []
  }
 ],
 "metadata": {
  "interpreter": {
   "hash": "77f52a5bc5868094e73b4362eda93a24edc2b1d7e8f0846daba14e7c1b4e7a67"
  },
  "kernelspec": {
   "display_name": "Python 3.7.6 ('base')",
   "language": "python",
   "name": "python3"
  },
  "language_info": {
   "codemirror_mode": {
    "name": "ipython",
    "version": 3
   },
   "file_extension": ".py",
   "mimetype": "text/x-python",
   "name": "python",
   "nbconvert_exporter": "python",
   "pygments_lexer": "ipython3",
   "version": "3.7.6"
  },
  "orig_nbformat": 4
 },
 "nbformat": 4,
 "nbformat_minor": 2
}
